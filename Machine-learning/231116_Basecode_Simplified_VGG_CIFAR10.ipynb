{
  "nbformat": 4,
  "nbformat_minor": 0,
  "metadata": {
    "colab": {
      "provenance": [],
      "include_colab_link": true
    },
    "kernelspec": {
      "name": "python3",
      "display_name": "Python 3"
    },
    "language_info": {
      "name": "python"
    },
    "accelerator": "GPU",
    "gpuClass": "standard"
  },
  "cells": [
    {
      "cell_type": "markdown",
      "metadata": {
        "id": "view-in-github",
        "colab_type": "text"
      },
      "source": [
        "<a href=\"https://colab.research.google.com/github/minhe8564/Assignment/blob/main/Machine-learning/231116_Basecode_Simplified_VGG_CIFAR10.ipynb\" target=\"_parent\"><img src=\"https://colab.research.google.com/assets/colab-badge.svg\" alt=\"Open In Colab\"/></a>"
      ]
    },
    {
      "cell_type": "markdown",
      "source": [
        "### 패키지 선언"
      ],
      "metadata": {
        "id": "QklLFdrtjr5a"
      }
    },
    {
      "cell_type": "code",
      "source": [
        "import torch\n",
        "import torch.nn as nn\n",
        "import torchvision.datasets as dataset\n",
        "import torchvision.transforms as transform\n",
        "from torch.utils.data import DataLoader\n",
        "import matplotlib.pyplot as plt\n",
        "import numpy as np"
      ],
      "metadata": {
        "id": "7lV8TMctTuX7"
      },
      "execution_count": 1,
      "outputs": []
    },
    {
      "cell_type": "markdown",
      "source": [
        "## Dataset 다운로드"
      ],
      "metadata": {
        "id": "wglW_lW5j8RM"
      }
    },
    {
      "cell_type": "code",
      "source": [
        "# Training dataset 다운로드\n",
        "cifar10_train = dataset.CIFAR10(root = \"./\",\n",
        "                            train = True,\n",
        "                            transform = transform.ToTensor(),\n",
        "                            download = True)\n",
        "# Testing dataset 다운로드\n",
        "cifar10_test = dataset.CIFAR10(root = \"./\",\n",
        "                            train = False,\n",
        "                            transform = transform.ToTensor(),\n",
        "                            download = True)\n",
        "\n",
        "dataLabel = [\"airplane\",\"automobile\",\"bird\",\"cat\",\"deer\",\"dog\",\"frog\",\"horse\",\"ship\",\"truck\"]"
      ],
      "metadata": {
        "id": "24F1ZKZ9j2y-",
        "colab": {
          "base_uri": "https://localhost:8080/"
        },
        "outputId": "a852b729-5af3-41f5-9632-dcaa6a49b6e3"
      },
      "execution_count": 2,
      "outputs": [
        {
          "output_type": "stream",
          "name": "stdout",
          "text": [
            "Files already downloaded and verified\n",
            "Files already downloaded and verified\n"
          ]
        }
      ]
    },
    {
      "cell_type": "markdown",
      "source": [
        "## 신경망 모델 정의\n",
        "- Fully Connected Layer -> nn.Linear(in_features, out_features)\n",
        "- Convolutional Layer -> nn.Conv2d(in_channels, out_channels, kernel_size, stride, padding)\n",
        "- ReLU -> nn.ReLU()\n",
        "- Max Pooling -> nn.MaxPool2d(kernel_size, stride)\n"
      ],
      "metadata": {
        "id": "I65fUdO7uzp-"
      }
    },
    {
      "cell_type": "code",
      "source": [
        "class SimplifiedVGG(nn.Module):\n",
        "\n",
        "  def __init__(self):\n",
        "    super(SimplifiedVGG, self).__init__()\n",
        "\n",
        "    # 신경망 파라미터 초기화 (Conv 6개, FC 3개, ReLU, MaxPool)\n",
        "    self.conv1_1 = nn.Conv2d(in_channels=3, out_channels=16, kernel_size=3, stride=1, padding=1)    # Convolution: [3x3x3]x16, s1, p1\n",
        "    self.conv1_2 = nn.Conv2d(in_channels=16, out_channels=32, kernel_size=3, stride=1, padding=1)   # Convolution: [3x3x16]x32, s1, p1\n",
        "\n",
        "    self.conv2_1 = nn.Conv2d(in_channels=32, out_channels=32, kernel_size=3, stride=1, padding=1)   # Convolution: [3x3x32]x32, s1, p1\n",
        "    self.conv2_2 = nn.Conv2d(in_channels=32, out_channels=64, kernel_size=3, stride=1, padding=1)   # Convolution: [3x3x32]x64, s1, p1\n",
        "\n",
        "    self.conv3_1 = nn.Conv2d(in_channels=64, out_channels=128, kernel_size=3, stride=1, padding=1)  # Convolution: [3x3x64]x128, s1, p1\n",
        "    self.conv3_2 = nn.Conv2d(in_channels=128, out_channels=256, kernel_size=3, stride=1, padding=1) # Convolution: [3x3x128]x256, s1, p1\n",
        "\n",
        "    self.fc1 = nn.Linear(in_features=4096, out_features=512)\n",
        "    self.fc2 = nn.Linear(in_features=512, out_features=256)\n",
        "    self.fc3 = nn.Linear(in_features=256, out_features=10)\n",
        "\n",
        "    self.relu = nn.ReLU()\n",
        "    self.max_pool = nn.MaxPool2d(kernel_size=2, stride=2)\n",
        "\n",
        "  def forward(self, x):\n",
        "    #-----------------------------------------------------------------\n",
        "    # Convolution, ReLU, MaxPool layer\n",
        "    y = self.relu(self.conv1_1(x))\n",
        "    y = self.relu(self.conv1_2(y))\n",
        "    y = self.max_pool(y)\n",
        "\n",
        "    y = self.relu(self.conv2_1(y))\n",
        "    y = self.relu(self.conv2_2(y))\n",
        "    y = self.max_pool(y)\n",
        "\n",
        "    y = self.relu(self.conv3_1(y))\n",
        "    y = self.relu(self.conv3_2(y))\n",
        "    y = self.max_pool(y)\n",
        "    #-----------------------------------------------------------------\n",
        "\n",
        "    y = y.view(-1, 4096) # feature map 평탄화\n",
        "\n",
        "    #-----------------------------------------------------------------\n",
        "    # Fully Connected, ReLU layer\n",
        "    y = self.relu(self.fc1(y))\n",
        "    y = self.relu(self.fc2(y))\n",
        "    y = self.fc3(y)\n",
        "    #-----------------------------------------------------------------\n",
        "\n",
        "    return y\n"
      ],
      "metadata": {
        "id": "oc4HgDKRtDFk"
      },
      "execution_count": 3,
      "outputs": []
    },
    {
      "cell_type": "code",
      "source": [
        "class SimplifiedVGG_Skip(nn.Module):\n",
        "\n",
        "  def __init__(self):\n",
        "    super(SimplifiedVGG_Skip, self).__init__()\n",
        "\n",
        "    # 신경망 파라미터 초기화 (Conv 6개, FC 3개, ReLU, MaxPool)\n",
        "    self.conv1_1 = nn.Conv2d(in_channels=3, out_channels=16, kernel_size=3, stride=1, padding=1)    # Convolution: [3x3x3]x16, s1, p1\n",
        "    self.conv1_2 = nn.Conv2d(in_channels=16, out_channels=32, kernel_size=3, stride=1, padding=1)   # Convolution: [3x3x16]x32, s1, p1\n",
        "\n",
        "    self.conv2_1 = nn.Conv2d(in_channels=32, out_channels=32, kernel_size=3, stride=1, padding=1)   # Convolution: [3x3x32]x32, s1, p1\n",
        "    self.conv2_2 = nn.Conv2d(in_channels=32, out_channels=64, kernel_size=3, stride=1, padding=1)   # Convolution: [3x3x32]x64, s1, p1\n",
        "\n",
        "    self.conv3_1 = nn.Conv2d(in_channels=64, out_channels=128, kernel_size=3, stride=1, padding=1)  # Convolution: [3x3x64]x128, s1, p1\n",
        "    self.conv3_2 = nn.Conv2d(in_channels=128, out_channels=256, kernel_size=3, stride=1, padding=1) # Convolution: [3x3x128]x256, s1, p1\n",
        "\n",
        "    self.fc1 = nn.Linear(in_features=4096, out_features=512)\n",
        "    self.fc2 = nn.Linear(in_features=512, out_features=256)\n",
        "    self.fc3 = nn.Linear(in_features=256, out_features=10)\n",
        "\n",
        "    self.relu = nn.ReLU()\n",
        "    self.max_pool = nn.MaxPool2d(kernel_size=2, stride=2)\n",
        "\n",
        "    # Skip connection을 위한 convolution layer 추가 선언\n",
        "    # 채널 수 맞추는 것 중요\n",
        "    self.conv_skip1 = nn.Conv2d(in_channels=3, out_channels=32, kernel_size=3, stride=1, padding=1)\n",
        "    self.conv_skip2 = nn.Conv2d(in_channels=32, out_channels=64, kernel_size=3, stride=1, padding=1)\n",
        "    self.conv_skip3 = nn.Conv2d(in_channels=64, out_channels=256, kernel_size=3, stride=1, padding=1)\n",
        "\n",
        "  def forward(self, x):\n",
        "    #-----------------------------------------------------------------\n",
        "    # Convolution, ReLU, MaxPool layer\n",
        "    skip_y = self.conv_skip1(x)\n",
        "    y = self.relu(self.conv1_1(x))\n",
        "    y = self.relu(self.conv1_2(y))\n",
        "    y = y + skip_y # skip connection 적용\n",
        "    y = self.max_pool(y)\n",
        "\n",
        "    skip_y = self.conv_skip2(y)\n",
        "    y = self.relu(self.conv2_1(y))\n",
        "    y = self.relu(self.conv2_2(y))\n",
        "    y = y + skip_y # skip connection 적용\n",
        "    y = self.max_pool(y)\n",
        "\n",
        "    skip_y = self.conv_skip3(y)\n",
        "    y = self.relu(self.conv3_1(y))\n",
        "    y = self.relu(self.conv3_2(y))\n",
        "    y = y + skip_y # skip connection 적용\n",
        "    y = self.max_pool(y)\n",
        "    #-----------------------------------------------------------------\n",
        "\n",
        "    y = y.view(-1, 4096) # feature map 평탄화\n",
        "\n",
        "    #-----------------------------------------------------------------\n",
        "    # Fully Connected, ReLU layer\n",
        "    y = self.relu(self.fc1(y))\n",
        "    y = self.relu(self.fc2(y))\n",
        "    y = self.fc3(y)\n",
        "    #-----------------------------------------------------------------\n",
        "\n",
        "    return y\n"
      ],
      "metadata": {
        "id": "YIaNtXgLG-XT"
      },
      "execution_count": 4,
      "outputs": []
    },
    {
      "cell_type": "markdown",
      "source": [
        "## Hyper-parameters 지정"
      ],
      "metadata": {
        "id": "5Fz63UdivjY3"
      }
    },
    {
      "cell_type": "code",
      "source": [
        "batch_size = 100\n",
        "learning_rate = 0.1\n",
        "training_epochs = 15\n",
        "loss_function = nn.CrossEntropyLoss()\n",
        "network = SimplifiedVGG_Skip().to('cuda')\n",
        "optimizer = torch.optim.SGD(network.parameters(), lr = learning_rate)\n",
        "\n",
        "data_loader = DataLoader(dataset=cifar10_train,\n",
        "                         batch_size=batch_size,\n",
        "                         shuffle=True,\n",
        "                         drop_last=True)"
      ],
      "metadata": {
        "id": "DIdnVvA4vjCe"
      },
      "execution_count": 5,
      "outputs": []
    },
    {
      "cell_type": "markdown",
      "source": [
        "## CNN 학습을 위한 반복문 선언"
      ],
      "metadata": {
        "id": "dBPBa7th2oNx"
      }
    },
    {
      "cell_type": "code",
      "source": [
        "for epoch in range(training_epochs):\n",
        "  network.train()\n",
        "  avg_cost = 0\n",
        "  total_batch = len(data_loader)\n",
        "\n",
        "  for img, label in data_loader:\n",
        "    img = img.to('cuda')\n",
        "    label = label.to('cuda')\n",
        "    pred = network(img)\n",
        "\n",
        "    loss = loss_function(pred, label)\n",
        "    optimizer.zero_grad() # gradient 초기화\n",
        "    loss.backward()\n",
        "    optimizer.step()\n",
        "\n",
        "    avg_cost += loss / total_batch\n",
        "\n",
        "  print('Epoch: %d Loss = %f'%(epoch+1, avg_cost))\n",
        "\n",
        "print('Learning finished')"
      ],
      "metadata": {
        "id": "_vKcxUMlvUJE",
        "colab": {
          "base_uri": "https://localhost:8080/"
        },
        "outputId": "d2a5803d-f674-4615-ad17-3bc54d8b420a"
      },
      "execution_count": 6,
      "outputs": [
        {
          "output_type": "stream",
          "name": "stdout",
          "text": [
            "Epoch: 1 Loss = 1.940265\n",
            "Epoch: 2 Loss = 1.407497\n",
            "Epoch: 3 Loss = 1.127322\n",
            "Epoch: 4 Loss = 0.913939\n",
            "Epoch: 5 Loss = 0.738075\n",
            "Epoch: 6 Loss = 0.596485\n",
            "Epoch: 7 Loss = 0.458281\n",
            "Epoch: 8 Loss = 0.338028\n",
            "Epoch: 9 Loss = 0.226466\n",
            "Epoch: 10 Loss = 0.165041\n",
            "Epoch: 11 Loss = 0.123480\n",
            "Epoch: 12 Loss = 0.092014\n",
            "Epoch: 13 Loss = 0.077522\n",
            "Epoch: 14 Loss = 0.051843\n",
            "Epoch: 15 Loss = 0.054482\n",
            "Learning finished\n"
          ]
        }
      ]
    },
    {
      "cell_type": "markdown",
      "source": [
        "## 학습이 완료된 모델을 이용해 정답률 확인"
      ],
      "metadata": {
        "id": "M-ewxZmlAPZ1"
      }
    },
    {
      "cell_type": "code",
      "source": [
        "network.eval()\n",
        "network = network.to('cpu')\n",
        "img_test = torch.tensor(np.transpose(cifar10_test.data,(0,3,1,2))) / 255.\n",
        "label_test = torch.tensor(cifar10_test.targets)\n",
        "\n",
        "with torch.no_grad(): # test에서는 기울기 계산 제외\n",
        "  prediction = network(img_test) # 전체 test data를 한번에 계산\n",
        "\n",
        "  correct_prediction = torch.argmax(prediction, 1) == label_test\n",
        "  accuracy = correct_prediction.float().mean()\n",
        "  print('Accuracy:', accuracy.item())"
      ],
      "metadata": {
        "id": "ae3-hzD67GG5",
        "colab": {
          "base_uri": "https://localhost:8080/"
        },
        "outputId": "c2659790-7e22-4d0f-cf31-0458165afc76"
      },
      "execution_count": 7,
      "outputs": [
        {
          "output_type": "stream",
          "name": "stdout",
          "text": [
            "Accuracy: 0.733299970626831\n"
          ]
        }
      ]
    },
    {
      "cell_type": "markdown",
      "source": [
        "## 예측 결과 확인"
      ],
      "metadata": {
        "id": "Ls_eHjdb-yjV"
      }
    },
    {
      "cell_type": "code",
      "source": [
        "dataIdx = 2020\n",
        "tmp_img = img_test[dataIdx]\n",
        "tmp_label = label_test[dataIdx]\n",
        "\n",
        "with torch.no_grad():\n",
        "  prediction = network(tmp_img)\n",
        "\n",
        "prediction_num = torch.argmax(prediction, 1)\n",
        "\n",
        "print(prediction)\n",
        "print(\"prediction: \", dataLabel[prediction_num])\n",
        "print(\"label: \", dataLabel[tmp_label])\n",
        "\n",
        "plt.imshow(np.transpose(tmp_img,(1,2,0)))\n",
        "plt.show"
      ],
      "metadata": {
        "id": "ck9OBIcpo-Tw",
        "colab": {
          "base_uri": "https://localhost:8080/",
          "height": 522
        },
        "outputId": "82a5f16d-a5b2-41df-df9a-c58675258fc8"
      },
      "execution_count": 8,
      "outputs": [
        {
          "output_type": "stream",
          "name": "stdout",
          "text": [
            "tensor([[  3.6252,  13.8397, -11.8833,  -5.0889,  -9.2999, -12.3628,  -6.2300,\n",
            "         -10.1331,   3.1491,  32.8677]])\n",
            "prediction:  truck\n",
            "label:  truck\n"
          ]
        },
        {
          "output_type": "execute_result",
          "data": {
            "text/plain": [
              "<function matplotlib.pyplot.show(close=None, block=None)>"
            ]
          },
          "metadata": {},
          "execution_count": 8
        },
        {
          "output_type": "display_data",
          "data": {
            "text/plain": [
              "<Figure size 640x480 with 1 Axes>"
            ],
            "image/png": "[encoded data removed]"
          },
          "metadata": {}
        }
      ]
    },
    {
      "cell_type": "code",
      "source": [],
      "metadata": {
        "id": "PA-a4ou_kABo"
      },
      "execution_count": 8,
      "outputs": []
    }
  ]
}