{
  "nbformat": 4,
  "nbformat_minor": 0,
  "metadata": {
    "colab": {
      "provenance": [],
      "gpuType": "T4",
      "include_colab_link": true
    },
    "kernelspec": {
      "name": "python3",
      "display_name": "Python 3"
    },
    "language_info": {
      "name": "python"
    },
    "accelerator": "GPU"
  },
  "cells": [
    {
      "cell_type": "markdown",
      "metadata": {
        "id": "view-in-github",
        "colab_type": "text"
      },
      "source": [
        "<a href=\"https://colab.research.google.com/github/minhe8564/Assignment/blob/main/231109_Basecode_LeNet5_MINIST.ipynb\" target=\"_parent\"><img src=\"https://colab.research.google.com/assets/colab-badge.svg\" alt=\"Open In Colab\"/></a>"
      ]
    },
    {
      "cell_type": "markdown",
      "source": [
        "### 패키지 선언"
      ],
      "metadata": {
        "id": "QklLFdrtjr5a"
      }
    },
    {
      "cell_type": "code",
      "source": [
        "import torch\n",
        "import torch.nn as nn\n",
        "import torchvision.datasets as dataset\n",
        "import torchvision.transforms as transform\n",
        "from torch.utils.data import DataLoader\n",
        "import matplotlib.pyplot as plt"
      ],
      "metadata": {
        "id": "7lV8TMctTuX7"
      },
      "execution_count": null,
      "outputs": []
    },
    {
      "cell_type": "markdown",
      "source": [
        "## Dataset 다운로드"
      ],
      "metadata": {
        "id": "wglW_lW5j8RM"
      }
    },
    {
      "cell_type": "code",
      "source": [
        "# Training dataset 다운로드\n",
        "mnist_train = dataset.MNIST(root = \"./\",\n",
        "                            train = True,\n",
        "                            transform = transform.ToTensor(),\n",
        "                            download = True)\n",
        "# Testing dataset 다운로드\n",
        "mnist_test = dataset.MNIST(root = \"./\",\n",
        "                            train = False,\n",
        "                            transform = transform.ToTensor(),\n",
        "                            download = True)"
      ],
      "metadata": {
        "id": "24F1ZKZ9j2y-",
        "colab": {
          "base_uri": "https://localhost:8080/"
        },
        "outputId": "fe0add25-cf1b-4b80-e443-da406ab8d794"
      },
      "execution_count": null,
      "outputs": [
        {
          "output_type": "stream",
          "name": "stdout",
          "text": [
            "Downloading http://yann.lecun.com/exdb/mnist/train-images-idx3-ubyte.gz\n",
            "Downloading http://yann.lecun.com/exdb/mnist/train-images-idx3-ubyte.gz to ./MNIST/raw/train-images-idx3-ubyte.gz\n"
          ]
        },
        {
          "output_type": "stream",
          "name": "stderr",
          "text": [
            "100%|██████████| 9912422/9912422 [00:00<00:00, 106479888.24it/s]\n"
          ]
        },
        {
          "output_type": "stream",
          "name": "stdout",
          "text": [
            "Extracting ./MNIST/raw/train-images-idx3-ubyte.gz to ./MNIST/raw\n",
            "\n",
            "Downloading http://yann.lecun.com/exdb/mnist/train-labels-idx1-ubyte.gz\n",
            "Downloading http://yann.lecun.com/exdb/mnist/train-labels-idx1-ubyte.gz to ./MNIST/raw/train-labels-idx1-ubyte.gz\n"
          ]
        },
        {
          "output_type": "stream",
          "name": "stderr",
          "text": [
            "100%|██████████| 28881/28881 [00:00<00:00, 40445974.57it/s]\n"
          ]
        },
        {
          "output_type": "stream",
          "name": "stdout",
          "text": [
            "Extracting ./MNIST/raw/train-labels-idx1-ubyte.gz to ./MNIST/raw\n",
            "\n",
            "Downloading http://yann.lecun.com/exdb/mnist/t10k-images-idx3-ubyte.gz\n",
            "Downloading http://yann.lecun.com/exdb/mnist/t10k-images-idx3-ubyte.gz to ./MNIST/raw/t10k-images-idx3-ubyte.gz\n"
          ]
        },
        {
          "output_type": "stream",
          "name": "stderr",
          "text": [
            "100%|██████████| 1648877/1648877 [00:00<00:00, 45357245.71it/s]"
          ]
        },
        {
          "output_type": "stream",
          "name": "stdout",
          "text": [
            "Extracting ./MNIST/raw/t10k-images-idx3-ubyte.gz to ./MNIST/raw\n"
          ]
        },
        {
          "output_type": "stream",
          "name": "stderr",
          "text": [
            "\n"
          ]
        },
        {
          "output_type": "stream",
          "name": "stdout",
          "text": [
            "\n",
            "Downloading http://yann.lecun.com/exdb/mnist/t10k-labels-idx1-ubyte.gz\n",
            "Downloading http://yann.lecun.com/exdb/mnist/t10k-labels-idx1-ubyte.gz to ./MNIST/raw/t10k-labels-idx1-ubyte.gz\n"
          ]
        },
        {
          "output_type": "stream",
          "name": "stderr",
          "text": [
            "100%|██████████| 4542/4542 [00:00<00:00, 5634584.08it/s]\n"
          ]
        },
        {
          "output_type": "stream",
          "name": "stdout",
          "text": [
            "Extracting ./MNIST/raw/t10k-labels-idx1-ubyte.gz to ./MNIST/raw\n",
            "\n"
          ]
        }
      ]
    },
    {
      "cell_type": "markdown",
      "source": [
        "## LeNet5 모델 정의\n",
        "- Fully Connected Layer -> nn.Linear(in_features, out_features)\n",
        "- Convolutional Layer -> nn.Conv2d(in_channels, out_channels, kernel_size, stride, padding)\n",
        "- ReLU -> nn.ReLU()\n",
        "- Max Pooling -> nn.MaxPool2d(kernel_size, stride)\n"
      ],
      "metadata": {
        "id": "I65fUdO7uzp-"
      }
    },
    {
      "cell_type": "code",
      "source": [
        "class LeNet5(nn.Module):\n",
        "\n",
        "  def __init__(self):\n",
        "    super(LeNet5, self).__init__()\n",
        "    # 신경망 파라미터 초기화 (Conv 2개, FC 3개, ReLU, MaxPool)\n",
        "    self.conv1 = nn.Conv2d(in_channels=1, out_channels=6, kernel_size=5, stride=1, padding=0)\n",
        "    self.relu = nn.ReLU()\n",
        "    self.max_pool = nn.MaxPool2d(kernel_size=2, stride=2)\n",
        "\n",
        "    self.conv2 = nn.Conv2d(in_channels=6, out_channels=16, kernel_size=5, stride=1, padding=0)\n",
        "\n",
        "    self.fc1 = nn.Linear(in_features=256, out_features=120)\n",
        "    self.fc2 = nn.Linear(in_features=120, out_features=84)\n",
        "    self.fc3 = nn.Linear(in_features=84, out_features=10)\n",
        "\n",
        "  def forward(self, x):\n",
        "    #-----------------------------------------------------------------\n",
        "    # Convolution, MaxPool layer 추가 필요 (발표 자료 중 1~6번)\n",
        "    # 하나의 레이어를 지나가게 됨\n",
        "    y = self.conv1(x)\n",
        "    y = self.relu(y)\n",
        "    y = self.max_pool(y)\n",
        "\n",
        "    # 두번째 레이어\n",
        "    y = self.conv2(y)\n",
        "    y = self.relu(y)\n",
        "    y = self.max_pool(y)\n",
        "\n",
        "    #-----------------------------------------------------------------\n",
        "\n",
        "    y = y.view(-1, 256) # feature map 평탄화\n",
        "\n",
        "    #-----------------------------------------------------------------\n",
        "    # Fully Connected layer 추가 필요 (발표 자료 중 8~12번)\n",
        "    y = self.fc1(y)\n",
        "    y = self.relu(y)\n",
        "\n",
        "    y = self.fc2(y)\n",
        "    y = self.relu(y)\n",
        "\n",
        "    y = self.fc3(y)\n",
        "\n",
        "    #-----------------------------------------------------------------\n",
        "\n",
        "    return y\n"
      ],
      "metadata": {
        "id": "oc4HgDKRtDFk"
      },
      "execution_count": null,
      "outputs": []
    },
    {
      "cell_type": "markdown",
      "source": [
        "## Hyper-parameters 지정"
      ],
      "metadata": {
        "id": "5Fz63UdivjY3"
      }
    },
    {
      "cell_type": "code",
      "source": [
        "batch_size = 100\n",
        "learning_rate = 0.1\n",
        "training_epochs = 15\n",
        "loss_function = nn.CrossEntropyLoss()\n",
        "network = LeNet5().to('cuda')\n",
        "optimizer = torch.optim.SGD(network.parameters(), lr = learning_rate)\n",
        "\n",
        "data_loader = DataLoader(dataset=mnist_train,\n",
        "                         batch_size=batch_size,\n",
        "                         shuffle=True,\n",
        "                         drop_last=True)"
      ],
      "metadata": {
        "id": "DIdnVvA4vjCe"
      },
      "execution_count": null,
      "outputs": []
    },
    {
      "cell_type": "markdown",
      "source": [
        "## CNN 학습을 위한 반복문 선언"
      ],
      "metadata": {
        "id": "dBPBa7th2oNx"
      }
    },
    {
      "cell_type": "code",
      "source": [
        "network.train()\n",
        "\n",
        "for epoch in range(training_epochs):\n",
        "  avg_cost = 0\n",
        "  total_batch = len(data_loader)\n",
        "\n",
        "  for img, label in data_loader:\n",
        "    img = img.to('cuda')\n",
        "    label = label.to('cuda')\n",
        "    pred = network(img)\n",
        "\n",
        "    loss = loss_function(pred, label)\n",
        "    optimizer.zero_grad() # gradient 초기화\n",
        "    loss.backward()\n",
        "    optimizer.step()\n",
        "\n",
        "    avg_cost += loss / total_batch\n",
        "\n",
        "  print('Epoch: %d Loss = %f'%(epoch+1, avg_cost))\n",
        "\n",
        "print('Learning finished')"
      ],
      "metadata": {
        "id": "_vKcxUMlvUJE",
        "colab": {
          "base_uri": "https://localhost:8080/"
        },
        "outputId": "7135fde0-777a-4805-bff9-1e40aec3f09c"
      },
      "execution_count": null,
      "outputs": [
        {
          "output_type": "stream",
          "name": "stdout",
          "text": [
            "Epoch: 1 Loss = 0.607178\n",
            "Epoch: 2 Loss = 0.097432\n",
            "Epoch: 3 Loss = 0.067270\n",
            "Epoch: 4 Loss = 0.054446\n",
            "Epoch: 5 Loss = 0.045778\n",
            "Epoch: 6 Loss = 0.039117\n",
            "Epoch: 7 Loss = 0.033206\n",
            "Epoch: 8 Loss = 0.028988\n",
            "Epoch: 9 Loss = 0.026231\n",
            "Epoch: 10 Loss = 0.023599\n",
            "Epoch: 11 Loss = 0.019573\n",
            "Epoch: 12 Loss = 0.017259\n",
            "Epoch: 13 Loss = 0.016946\n",
            "Epoch: 14 Loss = 0.014964\n",
            "Epoch: 15 Loss = 0.013045\n",
            "Learning finished\n"
          ]
        }
      ]
    },
    {
      "cell_type": "markdown",
      "source": [
        "## 학습이 완료된 모델을 이용해 정답률 확인"
      ],
      "metadata": {
        "id": "M-ewxZmlAPZ1"
      }
    },
    {
      "cell_type": "code",
      "source": [
        "network.eval()\n",
        "network = network.to('cpu')\n",
        "img_test = mnist_test.data.float().unsqueeze(1)\n",
        "label_test = mnist_test.targets\n",
        "\n",
        "with torch.no_grad(): # test에서는 기울기 계산 제외\n",
        "  prediction = network(img_test) # 전체 test data를 한번에 계산\n",
        "\n",
        "  correct_prediction = torch.argmax(prediction, 1) == label_test\n",
        "  accuracy = correct_prediction.float().mean()\n",
        "  print('Accuracy:', accuracy.item())"
      ],
      "metadata": {
        "id": "ae3-hzD67GG5",
        "colab": {
          "base_uri": "https://localhost:8080/"
        },
        "outputId": "0114e422-99ea-473d-d6bc-3fcc2c4528e2"
      },
      "execution_count": null,
      "outputs": [
        {
          "output_type": "stream",
          "name": "stdout",
          "text": [
            "Accuracy: 0.9868999719619751\n"
          ]
        }
      ]
    },
    {
      "cell_type": "markdown",
      "source": [
        "## 예측 결과 확인"
      ],
      "metadata": {
        "id": "Ls_eHjdb-yjV"
      }
    },
    {
      "cell_type": "code",
      "source": [
        "first_data = mnist_test.data[7776]\n",
        "\n",
        "with torch.no_grad():\n",
        "  prediction = network(first_data.float().unsqueeze(0))\n",
        "\n",
        "prediction_num = torch.argmax(prediction, 1)\n",
        "\n",
        "print(prediction)\n",
        "print(prediction_num)\n",
        "plt.imshow(first_data, cmap=\"gray\")\n",
        "plt.show"
      ],
      "metadata": {
        "id": "ck9OBIcpo-Tw",
        "colab": {
          "base_uri": "https://localhost:8080/",
          "height": 503
        },
        "outputId": "e59ac825-c82b-4e87-efa2-6e8b1d1a126b"
      },
      "execution_count": null,
      "outputs": [
        {
          "output_type": "stream",
          "name": "stdout",
          "text": [
            "tensor([[-1744.2562,  -123.1746,  -323.7316,   336.7461,  -912.6856,    92.5412,\n",
            "          -851.0694, -2073.1475,  6101.2778,  -688.8206]])\n",
            "tensor([8])\n"
          ]
        },
        {
          "output_type": "execute_result",
          "data": {
            "text/plain": [
              "<function matplotlib.pyplot.show(close=None, block=None)>"
            ]
          },
          "metadata": {},
          "execution_count": 7
        },
        {
          "output_type": "display_data",
          "data": {
            "text/plain": [
              "<Figure size 640x480 with 1 Axes>"
            ],
            "image/png": "[encoded data removed]"
          },
          "metadata": {}
        }
      ]
    }
  ]
}
