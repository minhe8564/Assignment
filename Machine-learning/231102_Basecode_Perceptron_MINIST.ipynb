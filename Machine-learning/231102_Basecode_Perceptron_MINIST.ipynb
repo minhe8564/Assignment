{
  "nbformat": 4,
  "nbformat_minor": 0,
  "metadata": {
    "colab": {
      "provenance": [],
      "include_colab_link": true
    },
    "kernelspec": {
      "name": "python3",
      "display_name": "Python 3"
    },
    "language_info": {
      "name": "python"
    },
    "accelerator": "GPU",
    "gpuClass": "standard"
  },
  "cells": [
    {
      "cell_type": "markdown",
      "metadata": {
        "id": "view-in-github",
        "colab_type": "text"
      },
      "source": [
        "<a href=\"https://colab.research.google.com/github/minhe8564/Assignment/blob/main/Machine-learning/231102_Basecode_Perceptron_MINIST.ipynb\" target=\"_parent\"><img src=\"https://colab.research.google.com/assets/colab-badge.svg\" alt=\"Open In Colab\"/></a>"
      ]
    },
    {
      "cell_type": "markdown",
      "source": [
        "### 패키지 선언"
      ],
      "metadata": {
        "id": "QklLFdrtjr5a"
      }
    },
    {
      "cell_type": "code",
      "source": [
        "import torch\n",
        "import torch.nn as nn\n",
        "import torchvision.datasets as dataset\n",
        "import torchvision.transforms as transform\n",
        "from torch.utils.data import DataLoader"
      ],
      "metadata": {
        "id": "7lV8TMctTuX7"
      },
      "execution_count": 1,
      "outputs": []
    },
    {
      "cell_type": "markdown",
      "source": [
        "## Dataset 다운로드"
      ],
      "metadata": {
        "id": "wglW_lW5j8RM"
      }
    },
    {
      "cell_type": "code",
      "source": [
        "# Training dataset 다운로드\n",
        "mnist_train = dataset.MNIST(root = \"./\",\n",
        "                            train = True,\n",
        "                            transform = transform.ToTensor(),\n",
        "                            download = True)\n",
        "# Testing dataset 다운로드\n",
        "mnist_test = dataset.MNIST(root = \"./\",\n",
        "                            train = False,\n",
        "                            transform = transform.ToTensor(),\n",
        "                            download = True)"
      ],
      "metadata": {
        "id": "24F1ZKZ9j2y-",
        "colab": {
          "base_uri": "https://localhost:8080/"
        },
        "outputId": "9059d468-8e85-4200-9bc0-d077c1d21e42"
      },
      "execution_count": 2,
      "outputs": [
        {
          "output_type": "stream",
          "name": "stdout",
          "text": [
            "Downloading http://yann.lecun.com/exdb/mnist/train-images-idx3-ubyte.gz\n",
            "Downloading http://yann.lecun.com/exdb/mnist/train-images-idx3-ubyte.gz to ./MNIST/raw/train-images-idx3-ubyte.gz\n"
          ]
        },
        {
          "output_type": "stream",
          "name": "stderr",
          "text": [
            "100%|██████████| 9912422/9912422 [00:00<00:00, 41749807.94it/s]\n"
          ]
        },
        {
          "output_type": "stream",
          "name": "stdout",
          "text": [
            "Extracting ./MNIST/raw/train-images-idx3-ubyte.gz to ./MNIST/raw\n",
            "\n",
            "Downloading http://yann.lecun.com/exdb/mnist/train-labels-idx1-ubyte.gz\n",
            "Downloading http://yann.lecun.com/exdb/mnist/train-labels-idx1-ubyte.gz to ./MNIST/raw/train-labels-idx1-ubyte.gz\n"
          ]
        },
        {
          "output_type": "stream",
          "name": "stderr",
          "text": [
            "100%|██████████| 28881/28881 [00:00<00:00, 105518897.06it/s]\n"
          ]
        },
        {
          "output_type": "stream",
          "name": "stdout",
          "text": [
            "Extracting ./MNIST/raw/train-labels-idx1-ubyte.gz to ./MNIST/raw\n",
            "\n",
            "Downloading http://yann.lecun.com/exdb/mnist/t10k-images-idx3-ubyte.gz\n",
            "Downloading http://yann.lecun.com/exdb/mnist/t10k-images-idx3-ubyte.gz to ./MNIST/raw/t10k-images-idx3-ubyte.gz\n"
          ]
        },
        {
          "output_type": "stream",
          "name": "stderr",
          "text": [
            "100%|██████████| 1648877/1648877 [00:00<00:00, 36976653.42it/s]\n"
          ]
        },
        {
          "output_type": "stream",
          "name": "stdout",
          "text": [
            "Extracting ./MNIST/raw/t10k-images-idx3-ubyte.gz to ./MNIST/raw\n",
            "\n",
            "Downloading http://yann.lecun.com/exdb/mnist/t10k-labels-idx1-ubyte.gz\n",
            "Downloading http://yann.lecun.com/exdb/mnist/t10k-labels-idx1-ubyte.gz to ./MNIST/raw/t10k-labels-idx1-ubyte.gz\n"
          ]
        },
        {
          "output_type": "stream",
          "name": "stderr",
          "text": [
            "100%|██████████| 4542/4542 [00:00<00:00, 19639720.38it/s]\n"
          ]
        },
        {
          "output_type": "stream",
          "name": "stdout",
          "text": [
            "Extracting ./MNIST/raw/t10k-labels-idx1-ubyte.gz to ./MNIST/raw\n",
            "\n"
          ]
        }
      ]
    },
    {
      "cell_type": "markdown",
      "source": [
        "## MNIST 데이터셋 형상 확인"
      ],
      "metadata": {
        "id": "YtT9Lct7mvEi"
      }
    },
    {
      "cell_type": "code",
      "source": [
        "import matplotlib.pyplot as plt\n",
        "print(len(mnist_train))     # training dataset 개수 확인\n",
        "\n",
        "first_data = mnist_train[0]\n",
        "print(first_data[0].shape)  # 첫번째 data의 형상 확인\n",
        "print(first_data[1])        # 첫번째 data의 정답 확인\n",
        "\n",
        "plt.imshow(first_data[0][0,:,:], cmap='gray')\n",
        "plt.show()"
      ],
      "metadata": {
        "id": "EnvfSSWxj7AI",
        "colab": {
          "base_uri": "https://localhost:8080/",
          "height": 485
        },
        "outputId": "871c45f9-697d-430e-aeae-5b89d64c854d"
      },
      "execution_count": 3,
      "outputs": [
        {
          "output_type": "stream",
          "name": "stdout",
          "text": [
            "60000\n",
            "torch.Size([1, 28, 28])\n",
            "5\n"
          ]
        },
        {
          "output_type": "display_data",
          "data": {
            "text/plain": [
              "<Figure size 640x480 with 1 Axes>"
            ],
            "image/png": "[encoded data removed]"
          },
          "metadata": {}
        }
      ]
    },
    {
      "cell_type": "code",
      "source": [
        "# 2D 형태 이미지의 전처리 -> 평탄화\n",
        "first_img = first_data[0]\n",
        "print(first_img.shape)\n",
        "\n",
        "first_img = first_img.view(-1, 28*28) # 이미지 평탄화 수행 2D -> 1D\n",
        "print(first_img.shape)"
      ],
      "metadata": {
        "id": "opsRtWujnQLM",
        "colab": {
          "base_uri": "https://localhost:8080/"
        },
        "outputId": "f95fe033-3dd7-4bd6-b3f8-b532f7c38b52"
      },
      "execution_count": 4,
      "outputs": [
        {
          "output_type": "stream",
          "name": "stdout",
          "text": [
            "torch.Size([1, 28, 28])\n",
            "torch.Size([1, 784])\n"
          ]
        }
      ]
    },
    {
      "cell_type": "markdown",
      "source": [
        "## Single Layer Perceptron 모델 정의\n"
      ],
      "metadata": {
        "id": "I65fUdO7uzp-"
      }
    },
    {
      "cell_type": "code",
      "source": [
        "class SLP(nn.Module):\n",
        "\n",
        "  def __init__(self):\n",
        "    super(SLP, self).__init__()\n",
        "    # SLP의 입력은 784개, 출력은 10개\n",
        "    self.fc = nn.Linear(in_features=784, out_features=10)\n",
        "\n",
        "  def forward(self, x):\n",
        "    x = x.view(-1, 28*28)\n",
        "    y = self.fc(x)\n",
        "    return y"
      ],
      "metadata": {
        "id": "oc4HgDKRtDFk"
      },
      "execution_count": 5,
      "outputs": []
    },
    {
      "cell_type": "markdown",
      "source": [
        "## Multi Layer Perceptron 모델 정의 (2-layer)\n",
        "Single layer의 성능보다 약 5% 높은 성능"
      ],
      "metadata": {
        "id": "6yY8SdC4El1D"
      }
    },
    {
      "cell_type": "code",
      "source": [
        "class MLP(nn.Module):\n",
        "\n",
        "  def __init__(self):\n",
        "    super(MLP, self).__init__()\n",
        "    self.fc1 = nn.Linear(in_features=784, out_features=100)\n",
        "    self.fc2 = nn.Linear(in_features=100, out_features=100)\n",
        "    self.fc3 = nn.Linear(in_features=100, out_features=100)\n",
        "    self.fc4 = nn.Linear(in_features=100, out_features=100)\n",
        "    self.fc5 = nn.Linear(in_features=100, out_features=10)\n",
        "    self.sigmoid = nn.Sigmoid()\n",
        "    self.relu = nn.ReLU()\n",
        "\n",
        "  def forward(self, x):\n",
        "    x = x.view(-1,28*28)\n",
        "    y = self.relu(self.fc1(x))\n",
        "    y = self.relu(self.fc2(y))\n",
        "    y = self.relu(self.fc3(y))\n",
        "    y = self.relu(self.fc4(y))\n",
        "    y = self.fc5(y)\n",
        "    return y\n"
      ],
      "metadata": {
        "id": "Jl76VoDKEj4b"
      },
      "execution_count": 6,
      "outputs": []
    },
    {
      "cell_type": "markdown",
      "source": [
        "## Hyper-parameters 지정"
      ],
      "metadata": {
        "id": "5Fz63UdivjY3"
      }
    },
    {
      "cell_type": "code",
      "source": [
        "batch_size = 100\n",
        "learning_rate = 0.1\n",
        "training_epochs = 15\n",
        "loss_function = nn.CrossEntropyLoss()\n",
        "# network = SLP()\n",
        "network = MLP()\n",
        "optimizer = torch.optim.SGD(network.parameters(), lr = learning_rate)\n",
        "\n",
        "# Batch 단위 학습을 위해 DataLoader 함수 사용\n",
        "data_loader = DataLoader(dataset=mnist_train,\n",
        "                         batch_size=batch_size,\n",
        "                         shuffle=True,\n",
        "                         drop_last=True)"
      ],
      "metadata": {
        "id": "DIdnVvA4vjCe"
      },
      "execution_count": 7,
      "outputs": []
    },
    {
      "cell_type": "markdown",
      "source": [
        "## Perceptron 학습을 위한 반복문 선언"
      ],
      "metadata": {
        "id": "dBPBa7th2oNx"
      }
    },
    {
      "cell_type": "code",
      "source": [
        "# 전체 데이터에 대한 반복\n",
        "for epoch in range(training_epochs):\n",
        "  network.train()\n",
        "  avg_cost = 0\n",
        "  total_batch = len(data_loader)\n",
        "\n",
        "  # 1 epoch 내의 배치에 대한 반복: iteration\n",
        "  for img, label in data_loader:\n",
        "\n",
        "    pred = network(img) # 입력 이미지에 대해 forward pass\n",
        "\n",
        "    loss = loss_function(pred, label) # 예측 값, 정답을 이용해 loss 계산\n",
        "    optimizer.zero_grad() # gradient 초기화\n",
        "    loss.backward() # 모든 weight에 대해 편미분 값 계싼\n",
        "    optimizer.step() # 파라미터 업데이트\n",
        "\n",
        "    # 모든 배치에 대한 평균 loss 값 계산\n",
        "    avg_cost += loss / total_batch\n",
        "\n",
        "  print('Epoch: %d Loss = %f'%(epoch+1, avg_cost))\n",
        "\n",
        "print('Learning finished')"
      ],
      "metadata": {
        "id": "_vKcxUMlvUJE",
        "colab": {
          "base_uri": "https://localhost:8080/"
        },
        "outputId": "ccc41d1f-9c54-415d-ff08-5f1844148840"
      },
      "execution_count": 8,
      "outputs": [
        {
          "output_type": "stream",
          "name": "stdout",
          "text": [
            "Epoch: 1 Loss = 1.242178\n",
            "Epoch: 2 Loss = 0.258820\n",
            "Epoch: 3 Loss = 0.156302\n",
            "Epoch: 4 Loss = 0.114838\n",
            "Epoch: 5 Loss = 0.091188\n",
            "Epoch: 6 Loss = 0.078391\n",
            "Epoch: 7 Loss = 0.065147\n",
            "Epoch: 8 Loss = 0.056391\n",
            "Epoch: 9 Loss = 0.047196\n",
            "Epoch: 10 Loss = 0.040347\n",
            "Epoch: 11 Loss = 0.037989\n",
            "Epoch: 12 Loss = 0.031058\n",
            "Epoch: 13 Loss = 0.027149\n",
            "Epoch: 14 Loss = 0.023575\n",
            "Epoch: 15 Loss = 0.022156\n",
            "Learning finished\n"
          ]
        }
      ]
    },
    {
      "cell_type": "markdown",
      "source": [
        "## 학습이 완료된 모델을 이용해 정답률 확인"
      ],
      "metadata": {
        "id": "M-ewxZmlAPZ1"
      }
    },
    {
      "cell_type": "code",
      "source": [
        "network.eval()\n",
        "img_test = mnist_test.data.float()\n",
        "label_test = mnist_test.targets\n",
        "\n",
        "with torch.no_grad(): # test에서는 기울기 계산 제외\n",
        "  prediction = network(img_test) # 전체 test data를 한번에 계산\n",
        "\n",
        "  correct_prediction = torch.argmax(prediction, 1) == label_test # 예측 값이 가장 높은 숫자와 정답데이터가 일치한 지 확인\n",
        "  accuracy = correct_prediction.float().mean()\n",
        "  print('Accuracy:', accuracy.item())"
      ],
      "metadata": {
        "id": "ae3-hzD67GG5",
        "colab": {
          "base_uri": "https://localhost:8080/"
        },
        "outputId": "2444ccdd-ae92-4547-8e53-58bf28ca9c83"
      },
      "execution_count": 9,
      "outputs": [
        {
          "output_type": "stream",
          "name": "stdout",
          "text": [
            "Accuracy: 0.9677000045776367\n"
          ]
        }
      ]
    },
    {
      "cell_type": "markdown",
      "source": [
        "## 예측 결과 확인"
      ],
      "metadata": {
        "id": "Ls_eHjdb-yjV"
      }
    },
    {
      "cell_type": "code",
      "source": [
        "first_data = mnist_test.data[1]\n",
        "\n",
        "with torch.no_grad():\n",
        "  prediction = network(first_data.float())\n",
        "\n",
        "prediction_num = torch.argmax(prediction, 1)\n",
        "\n",
        "print(prediction)\n",
        "print(prediction_num)\n",
        "plt.imshow(first_data, cmap=\"gray\")\n",
        "plt.show"
      ],
      "metadata": {
        "id": "ck9OBIcpo-Tw",
        "colab": {
          "base_uri": "https://localhost:8080/",
          "height": 504
        },
        "outputId": "6cdd8f1d-484a-478b-cca1-52085f652710"
      },
      "execution_count": 10,
      "outputs": [
        {
          "output_type": "stream",
          "name": "stdout",
          "text": [
            "tensor([[ -847.6064,  1560.9873,  4403.9917,  1497.8313, -1663.3324, -1600.2131,\n",
            "         -1464.0164,  1255.0507,   731.7065, -3220.5649]])\n",
            "tensor([2])\n"
          ]
        },
        {
          "output_type": "execute_result",
          "data": {
            "text/plain": [
              "<function matplotlib.pyplot.show(close=None, block=None)>"
            ]
          },
          "metadata": {},
          "execution_count": 10
        },
        {
          "output_type": "display_data",
          "data": {
            "text/plain": [
              "<Figure size 640x480 with 1 Axes>"
            ],
            "image/png": "[encoded data removed]"
          },
          "metadata": {}
        }
      ]
    }
  ]
}